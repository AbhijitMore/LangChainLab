{
 "cells": [
  {
   "cell_type": "code",
   "execution_count": 28,
   "metadata": {},
   "outputs": [
    {
     "data": {
      "text/plain": [
       "True"
      ]
     },
     "execution_count": 28,
     "metadata": {},
     "output_type": "execute_result"
    }
   ],
   "source": [
    "from langchain_community.llms import HuggingFaceHub\n",
    "from langchain.prompts import PromptTemplate\n",
    "from langchain_core.output_parsers import StrOutputParser\n",
    "from dotenv import load_dotenv\n",
    "\n",
    "import warnings\n",
    "warnings.simplefilter(action='ignore', category=FutureWarning)\n",
    "\n",
    "load_dotenv()"
   ]
  },
  {
   "cell_type": "markdown",
   "metadata": {},
   "source": [
    "# Base LLM"
   ]
  },
  {
   "cell_type": "code",
   "execution_count": 29,
   "metadata": {},
   "outputs": [],
   "source": [
    "def run_llm_chain(repo_id: str,\n",
    "                  input: str,\n",
    "                  temperature: float = 0.25,\n",
    "                  max_length: int=512,\n",
    "                  do_sample: bool = False) -> str:\n",
    "    template = \"\"\"{input}\"\"\"\n",
    "    prompt = PromptTemplate(template=template, input_variables=['question'])\n",
    "    llm = HuggingFaceHub(repo_id = repo_id,\n",
    "                         model_kwargs = {\n",
    "                             \"temperature\": temperature,\n",
    "                             \"max_length\": max_length,\n",
    "                             \"do_sample\": do_sample,\n",
    "                             \"early_stopping\": True,\n",
    "                         })\n",
    "    llm_chain = prompt | llm | StrOutputParser()\n",
    "    return llm_chain.invoke({\"input\": input})"
   ]
  },
  {
   "cell_type": "code",
   "execution_count": 30,
   "metadata": {},
   "outputs": [
    {
     "data": {
      "text/plain": [
       "'Write a story about pune, maharashtra.\\n\\n## Pune, Maharashtra\\n\\nPune is a city in the state of Maharashtra, India. It is the second largest city in Maharashtra and the ninth most populous city in India. Pune is located on the right bank of the Mutha river. It is the administrative headquarters of Pune district and was once the centre of power of the Maratha Empire established by Shivaji Maharaj.'"
      ]
     },
     "execution_count": 30,
     "metadata": {},
     "output_type": "execute_result"
    }
   ],
   "source": [
    "input = \"Write a story about pune, maharashtra.\"\n",
    "base_model_id = \"mistralai/Mistral-7B-v0.1\"\n",
    "run_llm_chain(base_model_id, input)"
   ]
  },
  {
   "cell_type": "markdown",
   "metadata": {},
   "source": [
    "## Instruction Tuned LLMs"
   ]
  },
  {
   "cell_type": "code",
   "execution_count": 31,
   "metadata": {},
   "outputs": [
    {
     "data": {
      "text/plain": [
       "'Write a story about pune, maharashtra.\\n\\nTitle: The Enchanted City of Pune\\n\\nOnce upon a time, in the heart of Maharashtra, lay the beautiful and enchanted city of Pune. Surrounded by the Sahyadri Mountains on one side and the Mula and Mutha rivers on the other, Pune was a city of contrasts, where ancient traditions blended seamlessly with modernity.\\n\\nThe city was known for its rich history, vibr'"
      ]
     },
     "execution_count": 31,
     "metadata": {},
     "output_type": "execute_result"
    }
   ],
   "source": [
    "instruct_model_id = \"mistralai/Mistral-7B-Instruct-v0.2\"\n",
    "run_llm_chain(instruct_model_id, input)"
   ]
  },
  {
   "cell_type": "code",
   "execution_count": 32,
   "metadata": {},
   "outputs": [
    {
     "data": {
      "text/plain": [
       "'<s>[INST]Write a story about pune, maharashtra.[/INST] Title: The Enchanting Tale of Pune: A City of Contrasts\\n\\nOnce upon a time, in the heart of Maharashtra, India, lay a city that was a perfect blend of the old and the new, the traditional and the modern, the serene and the vibrant. This city was known as Pune.\\n\\nPune, the Oxford of the East, was a place where history and modernity intertwined, creating a unique'"
      ]
     },
     "execution_count": 32,
     "metadata": {},
     "output_type": "execute_result"
    }
   ],
   "source": [
    "instruct_model_id = \"mistralai/Mistral-7B-Instruct-v0.2\"\n",
    "input = \"<s>[INST]\" + input +  \"[/INST]\"\n",
    "run_llm_chain(instruct_model_id, input)"
   ]
  },
  {
   "cell_type": "code",
   "execution_count": null,
   "metadata": {},
   "outputs": [],
   "source": []
  },
  {
   "cell_type": "code",
   "execution_count": null,
   "metadata": {},
   "outputs": [],
   "source": []
  }
 ],
 "metadata": {
  "kernelspec": {
   "display_name": "langchainlab",
   "language": "python",
   "name": "python3"
  },
  "language_info": {
   "codemirror_mode": {
    "name": "ipython",
    "version": 3
   },
   "file_extension": ".py",
   "mimetype": "text/x-python",
   "name": "python",
   "nbconvert_exporter": "python",
   "pygments_lexer": "ipython3",
   "version": "3.12.2"
  }
 },
 "nbformat": 4,
 "nbformat_minor": 2
}
