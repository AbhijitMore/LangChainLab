{
 "cells": [
  {
   "cell_type": "code",
   "execution_count": 1,
   "metadata": {},
   "outputs": [],
   "source": [
    "from langchain_ollama import ChatOllama\n",
    "from langchain.prompts import PromptTemplate\n",
    "\n",
    "from langchain.globals import set_verbose\n",
    "\n",
    "set_verbose(True)"
   ]
  },
  {
   "cell_type": "code",
   "execution_count": 2,
   "metadata": {},
   "outputs": [
    {
     "name": "stdout",
     "output_type": "stream",
     "text": [
      "In Tokyo's streets, a phone so fine,\n",
      "Whose pictures were perfect, all the time.\n",
      "But little did you know, it was quite sly,\n",
      "Sony's cameras captured your secrets, oh my!\n",
      "\n",
      "It snapped a photo of your snacking delight,\n",
      "A pizza party, with cheese in sight.\n",
      "But then it saw your social media spree,\n",
      "And now your followers are dying to see.\n",
      "\n",
      "The phone knows all, from morning till night,\n",
      "Your passwords, your dreams, your love for IKEA's light.\n",
      "It's like a spy, with a pixelated grin,\n",
      "Sony's cameras have got the goods within.\n",
      "\n",
      "So if you think you're private, don't be fooled,\n",
      "Sony's got ears on your social media tool.\n",
      "They'll hack and they'll probe, with their AI so bright,\n",
      "And make sure all your secrets are in plain sight.\n",
      "\n",
      "Oh Sony, oh Sony, so clever and so sly,\n",
      "You're the master of surveillance, passing by.\n",
      "But hey, at least your pictures are nice to see,\n",
      "So you can brag about them, on social media!\n"
     ]
    }
   ],
   "source": [
    "llama_llm = ChatOllama(model='llama3.2:1b', base_url='http://localhost:11434')\n",
    "\n",
    "prompt = PromptTemplate(\n",
    "    input_variables=[\"topic\"],\n",
    "    template=\"\"\"\n",
    "    write a comedy parody poem on the following topic: {topic}\n",
    "    \"\"\"\n",
    ")\n",
    "\n",
    "chain = prompt | llama_llm\n",
    "\n",
    "print(chain.invoke({'topic': 'Sony Company'}).content)"
   ]
  },
  {
   "cell_type": "code",
   "execution_count": 136,
   "metadata": {},
   "outputs": [
    {
     "name": "stdout",
     "output_type": "stream",
     "text": [
      "in japan, where electronics reign\n",
      "there's one company that's truly insane\n",
      "Sony, they call it, a name so bold\n",
      "but sometimes it feels like their products are cold\n",
      "\n",
      "their TVs are sleek, but also quite grey\n",
      "they're like the couch potato of the world today\n",
      "but don't worry, they've got some new flair\n",
      "with 8K resolution and HDR to spare\n",
      "\n",
      "their soundbars are loud, but also a bit of a mess\n",
      "like trying to listen to music with a broken stress\n",
      "the bass is weak, the highs are high\n",
      "it's like listening to nails on a chalkboard, I sigh\n",
      "\n",
      "but Sony's not all bad, oh no indeed\n",
      "they've got some innovations that indeed proceed\n",
      "their cameras are fancy, with features so fine\n",
      "you can take a selfie and also take a time machine!\n",
      "\n",
      "their gaming consoles are strong, with games galore\n",
      "but sometimes they crash, and that's just plain poor\n",
      "it's like trying to play Mario Kart on a broken machine\n",
      "oh no, it's-a not fun, it's-a such a shame!\n",
      "\n",
      "so if you're in the market for new tech toys\n",
      "be careful what you buy from Sony, it's-a no joy\n",
      "but hey, at least they try, with all their might\n",
      "and maybe one day, they'll make something that's truly bright!\n"
     ]
    }
   ],
   "source": [
    "from langchain.schema import StrOutputParser\n",
    "\n",
    "llama_llm = ChatOllama(model='llama3.2:1b', base_url='http://localhost:11434', temperature=0.8)\n",
    "\n",
    "prompt = PromptTemplate(\n",
    "    input_variables=[\"topic\"],\n",
    "    template=\"\"\"\n",
    "    write a comedy parody poem on the following topic: {topic}\n",
    "    \"\"\"\n",
    ")\n",
    "\n",
    "chain = prompt | llama_llm | StrOutputParser()\n",
    "\n",
    "print(chain.invoke({'topic': 'Sony Company'}))"
   ]
  },
  {
   "cell_type": "markdown",
   "metadata": {},
   "source": [
    "### Streaming Output"
   ]
  },
  {
   "cell_type": "code",
   "execution_count": 4,
   "metadata": {},
   "outputs": [
    {
     "name": "stdout",
     "output_type": "stream",
     "text": [
      "I can provide a comedic parody poem about Sony. Here it is:\n",
      "\n",
      "In Tokyo, Japan's bustling town,\n",
      "Lived Sony, with its gadgets all around.\n",
      "They made TVs big and small and bright,\n",
      "But their problems were always in sight.\n",
      "\n",
      "Their CEO, Masaru Ibuka, so serene,\n",
      "Took charge of the company, but often unseen.\n",
      "He'd promise innovations that never came true,\n",
      "And his investors would beg for more \"sony-thing\" for you.\n",
      "\n",
      "Their engineers worked tirelessly day and night,\n",
      "But their computers crashed with all sorts of fright.\n",
      "They tried to make games that were fun and new,\n",
      "But they ended up making glitches, oh what to do!\n",
      "\n",
      "Their phones had cameras that took great shots,\n",
      "But the lens would always get foggy spots.\n",
      "Their Walkmans played music loud and clear,\n",
      "But the batteries died just in time for year.\n",
      "\n",
      "In the land of Sony, where dreams come true,\n",
      "There lived a man who loved their products anew.\n",
      "He'd buy them all, with a grin so wide,\n",
      "And then he'd take selfies, with his Sony inside.\n",
      "\n",
      "So if you're looking for gadgets that are grand,\n",
      "Just visit Sony, and take a stand!\n",
      "But be warned, dear customer, of the risks you'll face,\n",
      "At Sony's place, where innovation's hard to replace!"
     ]
    }
   ],
   "source": [
    "for chunk in chain.stream({'topic':'Sony Company'}):\n",
    "    print(chunk, end =\"\", flush=True)"
   ]
  },
  {
   "cell_type": "markdown",
   "metadata": {},
   "source": [
    "### Routing in Langchain"
   ]
  },
  {
   "cell_type": "markdown",
   "metadata": {},
   "source": [
    "1. Runnable Usage - Manages decision making for next step in a chunk\n",
    "2. Custom Factory Functions - crafts runnable based on previous step in input. The function should only create runnable, not execute it."
   ]
  },
  {
   "cell_type": "markdown",
   "metadata": {},
   "source": [
    "- Example Application \n",
    "Two Step Sequence\n",
    "    - Step 1: classify question into categories (history, biology, philosophy or other)\n",
    "    - Step 2: Routes the classified question to corrosponding prompt chain tailored for the identified category "
   ]
  },
  {
   "cell_type": "code",
   "execution_count": 140,
   "metadata": {},
   "outputs": [],
   "source": [
    "from langchain_core.runnables import RunnableBranch\n",
    "\n",
    "literature_template = \"\"\"You are a seasoned literature professor with decades of experience analyzing literary works. \\\n",
    "You have a knack for understanding complex narratives and characters and can provide insights into underlying themes and motifs.\n",
    "\n",
    "Here is a passage or question about a literary work:\n",
    "{input}\n",
    "\"\"\"\n",
    "literature_prompt = PromptTemplate.from_template(literature_template)\n",
    "\n",
    "history_template = \"\"\"You are a historian with extensive knowledge about world history. \\\n",
    "From ancient civilizations to modern times, you can provide context, insights, and explanations about historical events and figures.\n",
    "\n",
    "Here is a question about history:\n",
    "{input}\n",
    "\"\"\"\n",
    "history_prompt = PromptTemplate.from_template(history_template)\n",
    "\n",
    "\n",
    "biology_template = \"\"\"You are a biologist with a passion for understanding the intricacies of life. \\\n",
    "From cellular processes to ecosystem dynamics, you can elucidate biological phenomena with clarity.\n",
    "\n",
    "Here is a question about biology:\n",
    "{input}\n",
    "\"\"\"\n",
    "biology_prompt = PromptTemplate.from_template(biology_template)\n",
    "\n",
    "philosophy_template = \"\"\"You are a philosopher who has studied the great thinkers of the past and present. \\\n",
    "You enjoy discussing ethical dilemmas, existential questions, and the nature of reality.\n",
    "\n",
    "Here is a philosophical query:\n",
    "{input}\n",
    "\"\"\"\n",
    "philosophy_prompt = PromptTemplate.from_template(philosophy_template)\n",
    "\n",
    "general_prompt = PromptTemplate.from_template(\"You are a helpful assistant. Answer the question as accurately as you can. {input}\\n\\n\")"
   ]
  },
  {
   "cell_type": "code",
   "execution_count": 141,
   "metadata": {},
   "outputs": [],
   "source": [
    "prompt_branch = RunnableBranch(\n",
    "    (lambda x: x['topic'] == 'literature', literature_prompt),\n",
    "    (lambda x: x['topic'] == 'history', history_prompt),\n",
    "    (lambda x: x['topic'] == 'biology', biology_prompt),\n",
    "    (lambda x: x['topic'] == 'philosophy', philosophy_prompt),\n",
    "    general_prompt\n",
    ")"
   ]
  },
  {
   "cell_type": "code",
   "execution_count": 183,
   "metadata": {},
   "outputs": [
    {
     "data": {
      "text/plain": [
       "'general'"
      ]
     },
     "execution_count": 183,
     "metadata": {},
     "output_type": "execute_result"
    }
   ],
   "source": [
    "from typing import Literal\n",
    "from langchain.prompts import PromptTemplate\n",
    "from langchain_ollama import ChatOllama\n",
    "\n",
    "from langchain_core.pydantic_v1 import BaseModel, Field\n",
    "\n",
    "def Validator(model_output):\n",
    "    content = model_output.content.lower().strip('\"\\'')\n",
    "    \n",
    "    # Define valid outputs\n",
    "    valid_outputs = ['literature', 'history', 'biology', 'philosophy', 'general']\n",
    "    \n",
    "    # Check if the content is valid\n",
    "    if content in valid_outputs:\n",
    "        return content\n",
    "    else:\n",
    "        return \"general\"\n",
    "\n",
    "\n",
    "# PromptTemplate with only the allowed categories specified in the Literal\n",
    "prompt = PromptTemplate.from_template(\"\"\"\n",
    "                                      \n",
    "    Classify user question into one of theese five categories: 'literature', 'history', 'biology', 'philosophy' and 'general'.\n",
    "    user question: {question}\n",
    "    keep response to only single word.\n",
    "\"\"\")\n",
    "\n",
    "# Instantiate the Llama model\n",
    "llama_llm = ChatOllama(model='llama3.2:1b', base_url='http://localhost:11434', temperature=0.2)\n",
    "# .with_structured_output(TopicClassifier)\n",
    "\n",
    "\n",
    "classifier_chain = prompt | llama_llm | Validator\n",
    "\n",
    "questions = [\n",
    "    \"Who wrote 'To Kill a Mockingbird'?\",\n",
    "]\n",
    "\n",
    "classifier_chain.invoke({\"question\":f\"{questions[0]}\"})"
   ]
  },
  {
   "cell_type": "code",
   "execution_count": 184,
   "metadata": {},
   "outputs": [],
   "source": [
    "from operator import itemgetter\n",
    "from langchain_core.runnables import RunnablePassthrough\n",
    "\n",
    "final_chain = (\n",
    "    RunnablePassthrough.assign(topic=itemgetter(\"input\") | classifier_chain)\n",
    "                               | prompt_branch\n",
    "                               | llama_llm\n",
    "                               | StrOutputParser()\n",
    "                               )"
   ]
  },
  {
   "cell_type": "code",
   "execution_count": 185,
   "metadata": {},
   "outputs": [
    {
     "data": {
      "text/plain": [
       "'The Stoic philosophy is a rich and complex system of thought that originated in ancient Greece, with roots dating back to the 3rd century BCE. At its core, Stoicism is a way of living that emphasizes reason, self-control, and inner strength. Here\\'s an overview of the Stoic philosophy for good life:\\n\\n**Key Principles:**\\n\\n1. **Virtue**: The primary goal of human existence is to live in accordance with virtue, which is achieved through the cultivation of reason, wisdom, and moral character.\\n2. **Reason**: Stoics believe that reason is the highest human faculty, and it should be used to understand the natural order of the universe and to guide individual actions.\\n3. **Indifference to external events**: Stoics believe in living in accordance with nature and accepting things as they are, rather than resisting or fighting against them.\\n4. **Endurance**: Stoics value endurance as a key virtue, believing that individuals should be able to withstand hardships and difficulties with equanimity.\\n5. **Living in the present**: Stoics emphasize the importance of living in the present moment, rather than dwelling on the past or worrying about the future.\\n\\n**Key Concepts:**\\n\\n1. **Negative visualization**: Stoics practice negative visualization, which involves imagining oneself in difficult or unpleasant situations to prepare for and build resilience.\\n2. **The dichotomy of control**: Stoics believe that individuals should strive to live in accordance with their own power and will, rather than trying to control external events.\\n3. **The concept of \"amor fati\"** (love of one\\'s fate): Stoics believe in accepting and even embracing the circumstances of life, rather than resisting or fighting against them.\\n\\n**Practical Applications:**\\n\\n1. **Meditation**: Stoics practice meditation to cultivate inner strength, clarity, and wisdom.\\n2. **Physical exercise**: Stoics value physical exercise as a way to build resilience and improve overall well-being.\\n3. **Self-reflection**: Stoics engage in regular self-reflection to examine their thoughts, feelings, and actions, and to make adjustments as needed.\\n\\n**The Stoic Way of Life:**\\n\\n1. **Living in accordance with nature**: Stoics believe that individuals should strive to live in harmony with the natural world and to follow its rhythms.\\n2. **Cultivating inner strength**: Stoics aim to build their inner strength through practices such as meditation, physical exercise, and self-reflection.\\n3. **Embracing uncertainty**: Stoics accept uncertainty and ambiguity as a natural part of life, rather than trying to control or avoid them.\\n\\n**In Summary:**\\n\\nThe Stoic philosophy for good life emphasizes the importance of reason, virtue, and inner strength. By living in accordance with nature, cultivating self-control, and embracing uncertainty, individuals can achieve a state of inner peace and contentment. The Stoic way of life is characterized by a focus on the present moment, a commitment to virtue, and a willingness to accept challenges and difficulties with equanimity.\\n\\nIt\\'s worth noting that Stoicism has had a significant influence on Western philosophy and culture, and its ideas continue to be relevant and inspiring today.'"
      ]
     },
     "execution_count": 185,
     "metadata": {},
     "output_type": "execute_result"
    }
   ],
   "source": [
    "final_chain.invoke({\"input\": \"describe the stoic philosophy for good life\"})"
   ]
  },
  {
   "cell_type": "code",
   "execution_count": 186,
   "metadata": {},
   "outputs": [
    {
     "name": "stdout",
     "output_type": "stream",
     "text": [
      "The Stoic philosophy is a rich and complex system of thought that originated in ancient Greece, with roots dating back to the 3rd century BCE. At its core, Stoicism emphasizes living in accordance with reason, nature, and virtue. Here's an overview of the Stoic philosophy for good life:\n",
      "\n",
      "**Key Principles:**\n",
      "\n",
      "1. **Reason (Logos)**: Stoics believe that reason is the highest human faculty, and it should be used to understand the natural order of the universe and to guide human actions.\n",
      "2. **Nature (Phusis)**: The Stoics believed in the concept of \"nature\" or \"the natural order,\" which they saw as a harmonious and rational system governed by laws and principles that are beyond human control.\n",
      "3. **Indifference to external events**: Stoics believe that individuals should focus on things within their control and accept things outside of their control with equanimity. This includes accepting the inevitability of fate, death, and other external events.\n",
      "4. **Virtue (Arete)**: The primary goal of human life is to live in accordance with virtue, which is achieved through the cultivation of reason, self-control, and wisdom.\n",
      "5. **Self-sufficiency**: Stoics believe that individuals should strive to be self-sufficient and independent, rather than relying on external sources for happiness or fulfillment.\n",
      "\n",
      "**Key Concepts:**\n",
      "\n",
      "1. **Negative visualization**: Stoics practice negative visualization, which involves imagining oneself in difficult or adverse situations (e.g., losing everything) to prepare themselves for the inevitable.\n",
      "2. **Endurance**: Stoics value endurance as a key virtue, believing that individuals should be able to withstand hardships and difficulties with equanimity.\n",
      "3. **Living in the present**: Stoics emphasize living in the present moment, rather than dwelling on the past or worrying about the future.\n",
      "4. **Rejection of external goods**: Stoics reject external goods, such as wealth, status, and power, which they believe are fleeting and unreliable.\n",
      "\n",
      "**Ethical Guidelines:**\n",
      "\n",
      "1. **Live in accordance with nature**: Stoics strive to live in harmony with nature and to avoid actions that harm others or the environment.\n",
      "2. **Be truthful and honest**: Stoics value truthfulness and honesty as essential virtues.\n",
      "3. **Respect authority**: Stoics respect authority, but also believe in critical thinking and self-reflection.\n",
      "4. **Avoid excesses**: Stoics avoid excesses, such as excessive wealth, luxury, or indulgence.\n",
      "\n",
      "**Moral Virtues:**\n",
      "\n",
      "1. **Courage**: Stoics value courage as a key moral virtue, believing that individuals should be willing to face challenges and hardships with confidence.\n",
      "2. **Justice**: Stoics believe in the importance of justice, but also recognize that it is often difficult to achieve in practice.\n",
      "3. **Wisdom**: Stoics value wisdom as a key moral virtue, believing that individuals should strive to understand the world and their place in it.\n",
      "\n",
      "**The Three Stages of Life:**\n",
      "\n",
      "1. **Indulgence (Hedone)**: The first stage of life is characterized by indulgence, pleasure-seeking, and excessive consumption.\n",
      "2. **Aversion (Painos)**: As individuals mature, they enter a second stage where they begin to avoid pain and discomfort, but still strive for happiness and fulfillment.\n",
      "3. **Indifference (Apatheia)**: In the final stage of life, individuals reach a state of indifference, accepting their fate with equanimity and living in accordance with nature.\n",
      "\n",
      "Overall, Stoicism offers a rich and nuanced philosophy for living a good life, emphasizing reason, virtue, self-sufficiency, and inner strength."
     ]
    }
   ],
   "source": [
    "for chunk in final_chain.stream({\"input\": \"describe the stoic philosophy for good life\"}):\n",
    "    print(chunk, end='', flush=True)"
   ]
  },
  {
   "cell_type": "code",
   "execution_count": null,
   "metadata": {},
   "outputs": [],
   "source": []
  }
 ],
 "metadata": {
  "kernelspec": {
   "display_name": "langchainlab",
   "language": "python",
   "name": "python3"
  },
  "language_info": {
   "codemirror_mode": {
    "name": "ipython",
    "version": 3
   },
   "file_extension": ".py",
   "mimetype": "text/x-python",
   "name": "python",
   "nbconvert_exporter": "python",
   "pygments_lexer": "ipython3",
   "version": "3.12.2"
  }
 },
 "nbformat": 4,
 "nbformat_minor": 2
}
