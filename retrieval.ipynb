{
 "cells": [
  {
   "cell_type": "markdown",
   "metadata": {},
   "source": [
    "### Preparing dataset"
   ]
  },
  {
   "cell_type": "code",
   "execution_count": 3,
   "metadata": {},
   "outputs": [
    {
     "name": "stdout",
     "output_type": "stream",
     "text": [
      "Total number of words in the_great_gatsby.txt is: 51257\n"
     ]
    }
   ],
   "source": [
    "filename = \"data/the_great_gatsby.txt\"\n",
    "\n",
    "word_count=0\n",
    "with open(filename, 'r') as file:\n",
    "    for line in file:\n",
    "        words = line.split()\n",
    "        word_count+= len(words)\n",
    "\n",
    "print(f\"Total number of words in {filename.split('/')[-1]} is: {word_count}\")\n",
    "        "
   ]
  },
  {
   "cell_type": "markdown",
   "metadata": {},
   "source": [
    "### Document Loaders"
   ]
  },
  {
   "cell_type": "code",
   "execution_count": 4,
   "metadata": {},
   "outputs": [],
   "source": [
    "from langchain.document_loaders import TextLoader\n",
    "loader = TextLoader(filename)\n",
    "gatsby_book = loader.load()"
   ]
  },
  {
   "cell_type": "code",
   "execution_count": 11,
   "metadata": {},
   "outputs": [
    {
     "data": {
      "text/plain": [
       "langchain_core.documents.base.Document"
      ]
     },
     "execution_count": 11,
     "metadata": {},
     "output_type": "execute_result"
    }
   ],
   "source": [
    "type(gatsby_book[0])"
   ]
  },
  {
   "cell_type": "markdown",
   "metadata": {},
   "source": [
    "Check more document loaders at [official documentation](https://python.langchain.com/docs/integrations/document_loaders/)"
   ]
  },
  {
   "cell_type": "markdown",
   "metadata": {},
   "source": [
    "### Text Splitters"
   ]
  },
  {
   "cell_type": "code",
   "execution_count": 12,
   "metadata": {},
   "outputs": [],
   "source": [
    "from langchain.text_splitter import RecursiveCharacterTextSplitter\n",
    "\n",
    "text_splitter = RecursiveCharacterTextSplitter(chunk_size= 1000,\n",
    "                                               chunk_overlap = 50,\n",
    "                                               length_function = len,\n",
    "                                               add_start_index = True)"
   ]
  },
  {
   "cell_type": "code",
   "execution_count": 13,
   "metadata": {},
   "outputs": [],
   "source": [
    "texts = text_splitter.split_documents(gatsby_book)"
   ]
  },
  {
   "cell_type": "code",
   "execution_count": 17,
   "metadata": {},
   "outputs": [
    {
     "name": "stdout",
     "output_type": "stream",
     "text": [
      "page_content='﻿The Project Gutenberg eBook of The Great Gatsby\n",
      "    \n",
      "This ebook is for the use of anyone anywhere in the United States and\n",
      "most other parts of the world at no cost and with almost no restrictions\n",
      "whatsoever. You may copy it, give it away or re-use it under the terms\n",
      "of the Project Gutenberg License included with this ebook or online\n",
      "at www.gutenberg.org. If you are not located in the United States,\n",
      "you will have to check the laws of the country where you are located\n",
      "before using this eBook.\n",
      "\n",
      "Title: The Great Gatsby\n",
      "\n",
      "Author: F. Scott Fitzgerald\n",
      "\n",
      "Release date: January 17, 2021 [eBook #64317]\n",
      "                Most recently updated: February 2, 2024\n",
      "\n",
      "Language: English\n",
      "\n",
      "Credits: Produced by Alex Cabal for the Standard Ebooks project, based on a transcription produced for Project Gutenberg Australia.\n",
      "\n",
      "\n",
      "*** START OF THE PROJECT GUTENBERG EBOOK THE GREAT GATSBY ***\n",
      "\n",
      "\n",
      "\n",
      "\n",
      "                           The Great Gatsby\n",
      "                                  by\n",
      "                          F. Scott Fitzgerald' metadata={'source': 'data/the_great_gatsby.txt', 'start_index': 0}\n",
      "page_content='Table of Contents\n",
      "\n",
      "I\n",
      "II\n",
      "III\n",
      "IV\n",
      "V\n",
      "VI\n",
      "VII\n",
      "VIII\n",
      "IX\n",
      "\n",
      "\n",
      "                              Once again\n",
      "                                  to\n",
      "                                 Zelda\n",
      "\n",
      "\n",
      "  Then wear the gold hat, if that will move her;\n",
      "  If you can bounce high, bounce for her too,\n",
      "  Till she cry “Lover, gold-hatted, high-bouncing lover,\n",
      "  I must have you!”\n",
      "\n",
      "  Thomas Parke d’Invilliers\n",
      "\n",
      "\n",
      "                                  I\n",
      "\n",
      "In my younger and more vulnerable years my father gave me some advice\n",
      "that I’ve been turning over in my mind ever since.\n",
      "\n",
      "“Whenever you feel like criticizing anyone,” he told me, “just\n",
      "remember that all the people in this world haven’t had the advantages\n",
      "that you’ve had.”' metadata={'source': 'data/the_great_gatsby.txt', 'start_index': 1030}\n"
     ]
    }
   ],
   "source": [
    "print(texts[0])\n",
    "print(texts[1])"
   ]
  },
  {
   "cell_type": "code",
   "execution_count": 19,
   "metadata": {},
   "outputs": [
    {
     "data": {
      "text/plain": [
       "362"
      ]
     },
     "execution_count": 19,
     "metadata": {},
     "output_type": "execute_result"
    }
   ],
   "source": [
    "len(texts)"
   ]
  },
  {
   "cell_type": "markdown",
   "metadata": {},
   "source": [
    "### Text Embeddings"
   ]
  },
  {
   "cell_type": "code",
   "execution_count": 24,
   "metadata": {},
   "outputs": [],
   "source": [
    "from langchain_ollama import OllamaEmbeddings\n",
    "nomic_embedding = OllamaEmbeddings(model='nomic-embed-text', base_url='http://localhost:11434')"
   ]
  },
  {
   "cell_type": "markdown",
   "metadata": {},
   "source": [
    "### Vector Store"
   ]
  },
  {
   "cell_type": "code",
   "execution_count": 25,
   "metadata": {},
   "outputs": [],
   "source": [
    "from langchain.vectorstores import FAISS\n",
    "vectorstore = FAISS.from_documents(documents=texts, embedding=nomic_embedding)"
   ]
  },
  {
   "cell_type": "code",
   "execution_count": 26,
   "metadata": {},
   "outputs": [
    {
     "data": {
      "text/plain": [
       "[Document(metadata={'source': 'data/the_great_gatsby.txt', 'start_index': 153027}, page_content='He was profoundly affected by the fact that Tom was there. But he\\nwould be uneasy anyhow until he had given them something, realizing in\\na vague way that that was all they came for. Mr. Sloane wanted\\nnothing. A lemonade? No, thanks. A little champagne? Nothing at all,\\nthanks … I’m sorry—\\n\\n“Did you have a nice ride?”\\n\\n“Very good roads around here.”\\n\\n“I suppose the automobiles—”\\n\\n“Yeah.”\\n\\nMoved by an irresistible impulse, Gatsby turned to Tom, who had\\naccepted the introduction as a stranger.\\n\\n“I believe we’ve met somewhere before, Mr. Buchanan.”\\n\\n“Oh, yes,” said Tom, gruffly polite, but obviously not remembering.\\n“So we did. I remember very well.”\\n\\n“About two weeks ago.”\\n\\n“That’s right. You were with Nick here.”\\n\\n“I know your wife,” continued Gatsby, almost aggressively.\\n\\n“That so?”\\n\\nTom turned to me.\\n\\n“You live near here, Nick?”\\n\\n“Next door.”\\n\\n“That so?”'),\n",
       " Document(metadata={'source': 'data/the_great_gatsby.txt', 'start_index': 179724}, page_content='A pause followed this apparently pointless remark. Daisy looked at Tom\\nfrowning, and an indefinable expression, at once definitely unfamiliar\\nand vaguely recognizable, as if I had only heard it described in\\nwords, passed over Gatsby’s face.\\n\\n“Come on, Daisy,” said Tom, pressing her with his hand toward Gatsby’s\\ncar. “I’ll take you in this circus wagon.”\\n\\nHe opened the door, but she moved out from the circle of his arm.\\n\\n“You take Nick and Jordan. We’ll follow you in the coupé.”\\n\\nShe walked close to Gatsby, touching his coat with her hand. Jordan\\nand Tom and I got into the front seat of Gatsby’s car, Tom pushed the\\nunfamiliar gears tentatively, and we shot off into the oppressive\\nheat, leaving them out of sight behind.\\n\\n“Did you see that?” demanded Tom.\\n\\n“See what?”\\n\\nHe looked at me keenly, realizing that Jordan and I must have known\\nall along.'),\n",
       " Document(metadata={'source': 'data/the_great_gatsby.txt', 'start_index': 172308}, page_content='“The rumour is,” whispered Jordan, “that that’s Tom’s girl on the\\ntelephone.”\\n\\nWe were silent. The voice in the hall rose high with annoyance: “Very\\nwell, then, I won’t sell you the car at all … I’m under no obligations\\nto you at all … and as for your bothering me about it at lunch time, I\\nwon’t stand that at all!”\\n\\n“Holding down the receiver,” said Daisy cynically.\\n\\n“No, he’s not,” I assured her. “It’s a bona-fide deal. I happen to\\nknow about it.”\\n\\nTom flung open the door, blocked out its space for a moment with his\\nthick body, and hurried into the room.\\n\\n“Mr. Gatsby!” He put out his broad, flat hand with well-concealed\\ndislike. “I’m glad to see you, sir … Nick …”\\n\\n“Make us a cold drink,” cried Daisy.\\n\\nAs he left the room again she got up and went over to Gatsby and\\npulled his face down, kissing him on the mouth.\\n\\n“You know I love you,” she murmured.\\n\\n“You forget there’s a lady present,” said Jordan.\\n\\nDaisy looked around doubtfully.\\n\\n“You kiss Nick too.”\\n\\n“What a low, vulgar girl!”'),\n",
       " Document(metadata={'source': 'data/the_great_gatsby.txt', 'start_index': 142789}, page_content='In the music-room Gatsby turned on a solitary lamp beside the piano.\\nHe lit Daisy’s cigarette from a trembling match, and sat down with her\\non a couch far across the room, where there was no light save what the\\ngleaming floor bounced in from the hall.\\n\\nWhen Klipspringer had played “The Love Nest” he turned around on the\\nbench and searched unhappily for Gatsby in the gloom.\\n\\n“I’m all out of practice, you see. I told you I couldn’t play. I’m all\\nout of prac—”\\n\\n“Don’t talk so much, old sport,” commanded Gatsby. “Play!”\\n\\n “In the morning, In the evening, Ain’t we got fun—”\\n\\nOutside the wind was loud and there was a faint flow of thunder along\\nthe Sound. All the lights were going on in West Egg now; the electric\\ntrains, men-carrying, were plunging home through the rain from New\\nYork. It was the hour of a profound human change, and excitement was\\ngenerating on the air.\\n\\n “One thing’s sure and nothing’s surer The rich get richer and the\\n poor get—children. In the meantime, In between time—”')]"
      ]
     },
     "execution_count": 26,
     "metadata": {},
     "output_type": "execute_result"
    }
   ],
   "source": [
    "query = \"How does nick meets gatsby?\"\n",
    "\n",
    "vectorstore.similarity_search(query)"
   ]
  },
  {
   "cell_type": "markdown",
   "metadata": {},
   "source": [
    "#### Generate"
   ]
  },
  {
   "cell_type": "code",
   "execution_count": 49,
   "metadata": {},
   "outputs": [
    {
     "data": {
      "text/plain": [
       "\"Jay Gatsby's real name was James Gatz.\""
      ]
     },
     "execution_count": 49,
     "metadata": {},
     "output_type": "execute_result"
    }
   ],
   "source": [
    "from langchain.chains import RetrievalQA\n",
    "from langchain.prompts import PromptTemplate\n",
    "from langchain_ollama import ChatOllama\n",
    "\n",
    "template = \"\"\"\n",
    "Use the following pieces of context to answer the question at the end.\n",
    "If you dont know the answer, just say 'Ah! looks like that's out of context!'.\n",
    "Use three sentences maximum and keep answer as concise as possible. Use active voice and speak directly to the reader.\n",
    "Do not give any extra output than answer.\n",
    "context: {context}\n",
    "Question: {question}\n",
    "Helpful Answer: \n",
    "\"\"\"\n",
    "\n",
    "QA_CHAIN_PROMPMT = PromptTemplate.from_template(template)\n",
    "\n",
    "llama_llm = ChatOllama(model='llama3.2:1b', base_url='http://localhost:11434')\n",
    "\n",
    "qa_chain = RetrievalQA.from_chain_type(llama_llm,\n",
    "                                       retriever = vectorstore.as_retriever(),\n",
    "                                       chain_type_kwargs={\"prompt\":QA_CHAIN_PROMPMT})\n",
    "\n",
    "query = \"What was Jay Gatsby’s real name?\"\n",
    "\n",
    "result = qa_chain.invoke({\"query\":query})\n",
    "\n",
    "result['result']"
   ]
  },
  {
   "cell_type": "markdown",
   "metadata": {},
   "source": [
    "### Using LCEL for retrieval"
   ]
  },
  {
   "cell_type": "code",
   "execution_count": 59,
   "metadata": {},
   "outputs": [
    {
     "data": {
      "text/plain": [
       "\"Jay Gatsby's real name was James Gatz.\""
      ]
     },
     "execution_count": 59,
     "metadata": {},
     "output_type": "execute_result"
    }
   ],
   "source": [
    "from langchain_core.output_parsers import StrOutputParser\n",
    "from langchain_core.runnables import RunnableParallel, RunnablePassthrough\n",
    "\n",
    "setup_and_retrieval = RunnableParallel(\n",
    "    {\"context\": vectorstore.as_retriever(),\n",
    "     'question': RunnablePassthrough()}\n",
    ")\n",
    "\n",
    "output_parser = StrOutputParser()\n",
    "\n",
    "chain = setup_and_retrieval | QA_CHAIN_PROMPMT | llama_llm | output_parser\n",
    "\n",
    "query = \"What was Jay Gatsby’s real name?\"\n",
    "\n",
    "chain.invoke(query)"
   ]
  },
  {
   "cell_type": "code",
   "execution_count": null,
   "metadata": {},
   "outputs": [],
   "source": []
  }
 ],
 "metadata": {
  "kernelspec": {
   "display_name": "langchainlab",
   "language": "python",
   "name": "python3"
  },
  "language_info": {
   "codemirror_mode": {
    "name": "ipython",
    "version": 3
   },
   "file_extension": ".py",
   "mimetype": "text/x-python",
   "name": "python",
   "nbconvert_exporter": "python",
   "pygments_lexer": "ipython3",
   "version": "3.12.2"
  }
 },
 "nbformat": 4,
 "nbformat_minor": 2
}
