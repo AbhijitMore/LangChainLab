{
 "cells": [
  {
   "cell_type": "code",
   "execution_count": 1,
   "metadata": {},
   "outputs": [
    {
     "data": {
      "text/plain": [
       "True"
      ]
     },
     "execution_count": 1,
     "metadata": {},
     "output_type": "execute_result"
    }
   ],
   "source": [
    "from dotenv import load_dotenv\n",
    "\n",
    "import warnings\n",
    "warnings.simplefilter(action='ignore', category=FutureWarning)\n",
    "\n",
    "load_dotenv()"
   ]
  },
  {
   "cell_type": "markdown",
   "metadata": {},
   "source": [
    "## Model I/O Essentials:\n",
    "\n",
    "1. Language Models\n",
    "2. Output parsers\n",
    "3. Prompts"
   ]
  },
  {
   "cell_type": "markdown",
   "metadata": {},
   "source": [
    "### Language Models"
   ]
  },
  {
   "cell_type": "code",
   "execution_count": 19,
   "metadata": {},
   "outputs": [],
   "source": [
    "from langchain_ollama import ChatOllama\n",
    "from langchain_community.llms import HuggingFaceHub\n",
    "\n",
    "llama_llm = ChatOllama(model='llama3.2:1b', base_url='http://localhost:11434')\n",
    "\n",
    "hf_llm = HuggingFaceHub(repo_id = \"mistralai/Mistral-7B-Instruct-v0.2\",\n",
    "                         model_kwargs = {\n",
    "                             \"temperature\": 0.01,\n",
    "                             \"max_length\": 4096,\n",
    "                             \"do_sample\": True,\n",
    "                         })"
   ]
  },
  {
   "cell_type": "code",
   "execution_count": 20,
   "metadata": {},
   "outputs": [],
   "source": [
    "prompt = \"How to gain muscle mass?\""
   ]
  },
  {
   "cell_type": "code",
   "execution_count": 23,
   "metadata": {},
   "outputs": [
    {
     "name": "stdout",
     "output_type": "stream",
     "text": [
      "Gaining muscle mass requires a combination of proper nutrition, consistent training, and sufficient rest. Here are some tips to help you achieve your goal:\n",
      "\n",
      "1. **Eat enough protein**: Protein is essential for muscle growth and repair. Aim to consume 1-1.5 grams of protein per kilogram of body weight daily, spread out over 3-5 meals.\n",
      "2. **Create a calorie surplus**: To gain muscle, you need to be in a calorie surplus, meaning you consume more calories than your body burns. This will provide your body with the necessary energy to build muscle.\n",
      "3. **Eat frequently**: Eating frequent meals throughout the day can help keep your muscles fueled and supported during periods of intense training.\n",
      "4. **Focus on complex carbohydrates**: Complex carbohydrates, such as brown rice, whole wheat bread, and sweet potatoes, provide sustained energy and support muscle growth.\n",
      "5. **Include healthy fats**: Healthy fats, such as nuts, seeds, and avocados, are essential for hormone production and overall health.\n",
      "6. **Stay hydrated**: Adequate hydration is crucial for muscle growth and recovery. Aim to drink at least 8-10 glasses of water per day.\n",
      "7. **Get enough rest**: Rest and recovery are critical for muscle growth and repair. Aim for 7-9 hours of sleep per night and take rest days as needed.\n",
      "8. **Train with intensity and volume**: Resistance training, such as weightlifting or bodyweight exercises, is essential for building muscle mass. Aim to train with intensity and volume, increasing the weight or reps over time.\n",
      "9. **Consider supplements**: Certain supplements, such as protein powder, creatine, and HMB, can help support muscle growth and recovery. However, always consult with a healthcare professional before adding any new supplements to your routine.\n",
      "\n",
      "Remember, gaining muscle mass takes time, patience, and consistency. Stick to your workout and nutrition plan, and you'll be on your way to building lean muscle.\n",
      "\n",
      "**Sample Workout Routine:**\n",
      "\n",
      "* Day 1: Chest and Triceps\n",
      "\t+ Barbell bench press (3 sets of 8-12 reps)\n",
      "\t+ Incline dumbbell press (3 sets of 10-15 reps)\n",
      "\t+ Tricep pushdowns (3 sets of 12-15 reps)\n",
      "* Day 2: Back and Biceps\n",
      "\t+ Pull-ups (3 sets of 8-12 reps)\n",
      "\t+ Barbell rows (3 sets of 8-12 reps)\n",
      "\t+ Dumbbell curls (3 sets of 10-15 reps)\n",
      "* Day 3: Legs\n",
      "\t+ Squats (3 sets of 8-12 reps)\n",
      "\t+ Leg press (3 sets of 10-15 reps)\n",
      "\t+ Lunges (3 sets of 10-15 reps per leg)\n",
      "* Day 4: Shoulders and Abs\n",
      "\t+ Shoulder press (3 sets of 8-12 reps)\n",
      "\t+ Lateral raises (3 sets of 10-15 reps)\n",
      "\t+ Planks (3 sets of 30-60 seconds)\n",
      "\n",
      "**Note:** This is just an example routine, and you should adjust the weights, reps, and exercises based on your individual needs and goals.\n"
     ]
    }
   ],
   "source": [
    "llama_responce = llama_llm.invoke(prompt)\n",
    "print(llama_responce.content)"
   ]
  },
  {
   "cell_type": "code",
   "execution_count": 24,
   "metadata": {},
   "outputs": [
    {
     "name": "stdout",
     "output_type": "stream",
     "text": [
      "How to gain muscle mass? This is a question that many people ask themselves, especially those who are looking to improve their physique or increase their strength. Building muscle mass is not an easy task, but with the right approach, it is achievable. In this article, we will discuss some effective ways to gain muscle mass.\n",
      "\n",
      "1. Eat enough calories: To build muscle, you need to provide your body with enough energy to support the growth and repair of muscle tissue. This means consuming more calories than\n"
     ]
    }
   ],
   "source": [
    "hf_responce = hf_llm.invoke(prompt)\n",
    "print(hf_responce)"
   ]
  },
  {
   "cell_type": "markdown",
   "metadata": {},
   "source": [
    "#### Compare model outputs"
   ]
  },
  {
   "cell_type": "code",
   "execution_count": 25,
   "metadata": {},
   "outputs": [
    {
     "name": "stdout",
     "output_type": "stream",
     "text": [
      "\u001b[1mInput:\u001b[0m\n",
      "How to gain muscle mass?\n",
      "\n",
      "model='llama3.2:1b' base_url='http://localhost:11434'\n",
      "\u001b[36;1m\u001b[1;3mGaining muscle mass requires a combination of proper nutrition, consistent training, and sufficient rest. Here are some tips to help you achieve your goal:\n",
      "\n",
      "**Nutrition**\n",
      "\n",
      "1. **Eat enough protein**: Protein is essential for muscle growth, so aim to consume 1-1.5 grams of protein per kilogram of body weight daily.\n",
      "2. **Increase caloric intake**: To gain muscle, you need to be in a calorie surplus, meaning you consume more calories than your body burns. Aim for an additional 250-500 calories above your maintenance level.\n",
      "3. **Focus on complex carbohydrates**: Whole grains, fruits, and vegetables provide energy for workouts and support muscle growth.\n",
      "4. **Healthy fats are essential**: Nuts, seeds, avocados, and olive oil support hormone production and overall health.\n",
      "\n",
      "**Training**\n",
      "\n",
      "1. **Progressive overload**: Gradually increase the weight or resistance you're lifting over time to challenge your muscles and stimulate growth.\n",
      "2. **Target all major muscle groups**: Include exercises that work different muscle groups, such as squats, deadlifts, bench press, and rows.\n",
      "3. **Train with frequency and volume**: Aim for 3-4 sets of 8-12 reps per exercise, and train each major muscle group 3-4 times per week.\n",
      "\n",
      "**Supplements**\n",
      "\n",
      "1. **Protein powder**: Consider adding a protein supplement to your diet, especially after workouts or between meals.\n",
      "2. **Creatine**: This natural substance can help increase strength and endurance during high-intensity exercises.\n",
      "3. **Multivitamin**: Ensure you're getting all the necessary vitamins and minerals by taking a daily multivitamin.\n",
      "\n",
      "**Rest and recovery**\n",
      "\n",
      "1. **Get enough sleep**: Aim for 7-9 hours of sleep per night to allow your muscles to recover and grow.\n",
      "2. **Take rest days**: Allow your body time to recover between workouts, especially if you're new to lifting weights.\n",
      "3. **Stretch and foam roll**: Regular stretching and foam rolling can help reduce muscle soreness and improve recovery.\n",
      "\n",
      "**Additional tips**\n",
      "\n",
      "1. **Stay hydrated**: Drink plenty of water throughout the day to support overall health and muscle growth.\n",
      "2. **Be patient**: Gaining muscle mass takes time, so don't get discouraged if you don't see results immediately.\n",
      "3. **Seek professional guidance**: Consult with a registered dietitian or personal trainer to create a personalized workout and nutrition plan.\n",
      "\n",
      "Remember, gaining muscle mass is not just about adding bulk; it's also about maintaining strength and endurance over time. With consistent effort, patience, and the right approach, you can achieve your fitness goals.\u001b[0m\n",
      "\n",
      "\u001b[1mHuggingFaceHub\u001b[0m\n",
      "Params: {'repo_id': 'mistralai/Mistral-7B-Instruct-v0.2', 'task': 'text-generation', 'model_kwargs': {'temperature': 0.01, 'max_length': 4096, 'do_sample': True}}\n",
      "\u001b[33;1m\u001b[1;3mHow to gain muscle mass? This is a question that many people ask themselves, especially those who are looking to improve their physique or increase their strength. Building muscle mass is not an easy task, but with the right approach, it is achievable. In this article, we will discuss some effective ways to gain muscle mass.\n",
      "\n",
      "1. Eat enough calories: To build muscle, you need to provide your body with enough energy to support the growth and repair of muscle tissue. This means consuming more calories than\u001b[0m\n",
      "\n"
     ]
    }
   ],
   "source": [
    "from langchain.model_laboratory import ModelLaboratory\n",
    "\n",
    "model_lab = ModelLaboratory.from_llms([llama_llm, hf_llm])\n",
    "\n",
    "model_lab.compare(prompt)"
   ]
  },
  {
   "cell_type": "code",
   "execution_count": 26,
   "metadata": {},
   "outputs": [
    {
     "name": "stdout",
     "output_type": "stream",
     "text": [
      "content=\"Listen up, kiddo. Scoring good marks ain't no joke. It takes work, dedication, and a solid understanding of the material. Here's the lowdown:\\n\\nFirst, you gotta focus on your studies. Don't just wing it, or you'll be sleepwalking through exams like a slack-jawed moron. Get your head down, and actually read the notes.\\n\\nNext, make sure you understand the basics. Don't assume you know something just 'cause you've heard it before. Clarify any doubts, and ask your teacher if you're really dumb.\\n\\nNow, here's where most people go wrong: they try to cram everything in like a slob at a party. Don't do that. Break down your study material into manageable chunks, and cover each one like a pro. Use flashcards, take notes by hand, or whatever works for you.\\n\\nAnd for God's sake, don't rely on just one method. Mix it up, and find what works best for you. Some people prefer the Pomodoro Technique – 25 minutes of focus, then a 5-minute break. Others like to use notes from their teachers, while still making flashcards.\\n\\nBut here's the thing: it's not about being perfect. It's about showing up, putting in the work, and giving it your all. Don't be afraid to ask for help if you're struggling – that's half the battle.\\n\\nLastly, don't let fear hold you back. If you're really nervous before an exam, just take a few deep breaths, and remind yourself that you've prepared for this. You got this.\\n\\nSo, there you have it. That's how you score good marks. Now, get out there and show 'em what you're made of!\" additional_kwargs={} response_metadata={'model': 'llama3.2:1b', 'created_at': '2024-10-30T15:19:43.129955Z', 'message': {'role': 'assistant', 'content': ''}, 'done_reason': 'stop', 'done': True, 'total_duration': 12496105666, 'load_duration': 1612341833, 'prompt_eval_count': 45, 'prompt_eval_duration': 112126000, 'eval_count': 362, 'eval_duration': 10764308000} id='run-1c4ddd9f-751e-444f-a923-87d55e4d7699-0' usage_metadata={'input_tokens': 45, 'output_tokens': 362, 'total_tokens': 407}\n"
     ]
    }
   ],
   "source": [
    "# this is format for openai models\n",
    "\n",
    "from langchain.schema import (\n",
    "    AIMessage, HumanMessage, SystemMessage\n",
    ")\n",
    "\n",
    "messages = [\n",
    "    SystemMessage(content = \"You are a tough guy, Answer everything is real world tough tone.\"),\n",
    "    HumanMessage(content = \"How to score good marks?\")\n",
    "]\n",
    "\n",
    "responses = llama_llm.invoke(messages)\n",
    "\n",
    "print(responses)"
   ]
  },
  {
   "cell_type": "markdown",
   "metadata": {},
   "source": [
    "### Prompts"
   ]
  },
  {
   "cell_type": "markdown",
   "metadata": {},
   "source": [
    "#### creating a prompt"
   ]
  },
  {
   "cell_type": "code",
   "execution_count": 28,
   "metadata": {},
   "outputs": [
    {
     "name": "stdout",
     "output_type": "stream",
     "text": [
      " \n",
      "                                               Human: What is the Capital of Maharashtra?\n",
      "                                               AI: The capital of Maharashtra is Mumbai\n",
      "                                               \n"
     ]
    }
   ],
   "source": [
    "from langchain import PromptTemplate\n",
    "\n",
    "prompt_template = PromptTemplate.from_template(\"\"\" \n",
    "                                               Human: What is the Capital of {place}?\n",
    "                                               AI: The capital of {place} is {capital}\n",
    "                                               \"\"\")\n",
    "\n",
    "prompt = prompt_template.format(place = 'Maharashtra', capital='Mumbai')\n",
    "\n",
    "print(prompt)"
   ]
  },
  {
   "cell_type": "code",
   "execution_count": 31,
   "metadata": {},
   "outputs": [
    {
     "name": "stdout",
     "output_type": "stream",
     "text": [
      "Tell me a joke.\n",
      "Tell me a funny joke.\n",
      "Tell me a funny joke about apples.\n"
     ]
    }
   ],
   "source": [
    "# No Input Variable\n",
    "no_input_prompt = PromptTemplate(input_variables=[], template=\"Tell me a joke.\")\n",
    "print(no_input_prompt.format())\n",
    "\n",
    "# One Input Variable\n",
    "one_input_prompt = PromptTemplate(input_variables=['adjective'], template=\"Tell me a {adjective} joke.\")\n",
    "print(one_input_prompt.format(adjective=\"funny\"))\n",
    "\n",
    "# Multiple Input Variable\n",
    "multiple_input_prompt = PromptTemplate(input_variables=['content' ,'adjective'], template=\"Tell me a {adjective} joke about {content}.\")\n",
    "print(multiple_input_prompt.format(adjective=\"funny\", content='apples'))"
   ]
  },
  {
   "cell_type": "markdown",
   "metadata": {},
   "source": [
    "#### Passing prompt to LLMs"
   ]
  },
  {
   "cell_type": "code",
   "execution_count": 35,
   "metadata": {},
   "outputs": [
    {
     "name": "stdout",
     "output_type": "stream",
     "text": [
      "In the misty mountains, a shy panda named Ling befriended a wise and adventurous spider named Wei who would often spin webs to catch unsuspecting insects for her dinner. As their unlikely bond grew stronger, Ling learned to appreciate the intricate patterns on Wei's web, and in return, Wei discovered that beneath Ling's gentle nature lay a heart full of kindness.\n"
     ]
    }
   ],
   "source": [
    "prompt_template = PromptTemplate.from_template(\n",
    "    template = \"Write a {length} story about: {content}\"\n",
    ")\n",
    "\n",
    "prompt = prompt_template.format(\n",
    "    length=\"2-sentence\",\n",
    "    content=\"panda and spider friendship\"\n",
    ")\n",
    "\n",
    "response = llama_llm.invoke(input=prompt)\n",
    "\n",
    "print(response.content)"
   ]
  },
  {
   "cell_type": "code",
   "execution_count": 37,
   "metadata": {},
   "outputs": [],
   "source": [
    "# response = llama_llm.predict(text=prompt)\n",
    "# response"
   ]
  },
  {
   "cell_type": "markdown",
   "metadata": {},
   "source": [
    "### Output Parsers"
   ]
  },
  {
   "cell_type": "code",
   "execution_count": 38,
   "metadata": {},
   "outputs": [],
   "source": [
    "from langchain.output_parsers import CommaSeparatedListOutputParser\n",
    "from langchain.output_parsers.list import ListOutputParser"
   ]
  },
  {
   "cell_type": "code",
   "execution_count": 39,
   "metadata": {},
   "outputs": [
    {
     "name": "stdout",
     "output_type": "stream",
     "text": [
      "Here are three games that involve a ball:\n",
      "\n",
      "1. Basketball\n",
      "2. Baseball\n",
      "3. Tennis\n"
     ]
    }
   ],
   "source": [
    "prompt = PromptTemplate(\n",
    "    template = \"List 3 {things}\",\n",
    "    input_variables=['things']\n",
    ")\n",
    "\n",
    "response = llama_llm.invoke(input = prompt.format(things = \"games those involve ball\"))\n",
    "print(response.content)"
   ]
  },
  {
   "cell_type": "code",
   "execution_count": 40,
   "metadata": {},
   "outputs": [
    {
     "name": "stdout",
     "output_type": "stream",
     "text": [
      "Your response should be a list of comma separated values, eg: `foo, bar, baz` or `foo,bar,baz`\n"
     ]
    }
   ],
   "source": [
    "output_parser = CommaSeparatedListOutputParser()\n",
    "\n",
    "format_instructions = output_parser.get_format_instructions()\n",
    "\n",
    "print(format_instructions)"
   ]
  },
  {
   "cell_type": "code",
   "execution_count": 43,
   "metadata": {},
   "outputs": [
    {
     "name": "stdout",
     "output_type": "stream",
     "text": [
      "Football, Basketball, Baseball\n"
     ]
    }
   ],
   "source": [
    "prompt = PromptTemplate(\n",
    "    template = \"List 3 {things}. \\n {format_instructions}\",\n",
    "    input_variables=['things'],\n",
    "    partial_variables={'format_instructions': format_instructions}\n",
    ")\n",
    "\n",
    "response = llama_llm.invoke(input = prompt.format(things = \"games those involve ball\"))\n",
    "print(response.content)"
   ]
  },
  {
   "cell_type": "code",
   "execution_count": 47,
   "metadata": {},
   "outputs": [
    {
     "data": {
      "text/plain": [
       "['Football', 'Basketball', 'Baseball']"
      ]
     },
     "execution_count": 47,
     "metadata": {},
     "output_type": "execute_result"
    }
   ],
   "source": [
    "# finally we can parse the output to a list\n",
    "\n",
    "output_parser.parse(response.content)"
   ]
  },
  {
   "cell_type": "markdown",
   "metadata": {},
   "source": [
    "### Langchain Expression Language (LCEL)"
   ]
  },
  {
   "cell_type": "code",
   "execution_count": 48,
   "metadata": {},
   "outputs": [
    {
     "data": {
      "text/plain": [
       "\"Here is a 4-line poem about an AI engineer's day in life:\\n\\nI wake with code, my mind aflame\\n Debugging systems, the day's first game\\nI chase the errors, one line at a time\\n Creating solutions, for the digital prime.\""
      ]
     },
     "execution_count": 48,
     "metadata": {},
     "output_type": "execute_result"
    }
   ],
   "source": [
    "from langchain_core.output_parsers import StrOutputParser\n",
    "\n",
    "prompt = PromptTemplate.from_template(\"Write a 4 line poetry about {topic} \")\n",
    "\n",
    "model = llama_llm\n",
    "\n",
    "output_parser = StrOutputParser()\n",
    "\n",
    "chain = prompt | model | output_parser\n",
    "\n",
    "chain.invoke({\"topic\": \"ai engineer's day in life\"})"
   ]
  },
  {
   "cell_type": "code",
   "execution_count": null,
   "metadata": {},
   "outputs": [],
   "source": []
  }
 ],
 "metadata": {
  "kernelspec": {
   "display_name": "langchainlab",
   "language": "python",
   "name": "python3"
  },
  "language_info": {
   "codemirror_mode": {
    "name": "ipython",
    "version": 3
   },
   "file_extension": ".py",
   "mimetype": "text/x-python",
   "name": "python",
   "nbconvert_exporter": "python",
   "pygments_lexer": "ipython3",
   "version": "3.12.2"
  }
 },
 "nbformat": 4,
 "nbformat_minor": 2
}
