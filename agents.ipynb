{
 "cells": [
  {
   "cell_type": "code",
   "execution_count": 1,
   "metadata": {},
   "outputs": [],
   "source": [
    "from langchain.agents import load_tools\n",
    "from langchain.agents import initialize_agent\n",
    "from langchain_ollama import ChatOllama\n",
    "import os \n",
    "\n",
    "from dotenv import load_dotenv\n",
    "load_dotenv()\n",
    "\n",
    "import warnings\n",
    "warnings.simplefilter(action='ignore', category=FutureWarning)"
   ]
  },
  {
   "cell_type": "code",
   "execution_count": 19,
   "metadata": {},
   "outputs": [
    {
     "name": "stdout",
     "output_type": "stream",
     "text": [
      "\n",
      "\n",
      "\u001b[1m> Entering new AgentExecutor chain...\u001b[0m\n",
      "\u001b[32;1m\u001b[1;3m\n",
      "Invoking: `duckduckgo_search` with `{'query': 'IIT Madras Director'}`\n",
      "\n",
      "\n",
      "\u001b[0m\u001b[36;1m\u001b[1;3mIndian Institute of Technology (IIT), Madras bagging the top rank for the sixth time in a row is a validation of the institute's dedication to producing world-class talent and driving impactful ... September 23, 2024. Listen to this story. The Shakti-man of India, Veezhinathan Kamakoti is the director of IIT Madras, and has kept the institution at the top of all universities in the nation. The genius behind India's first microprocessor, Shakti, has been relentlessly working to strengthen the nation's semiconductor capabilities and ... IIT- Madras director Prof V Kamakoti, who was in the national capital to attend the event, spoke to News18, on what makes the institute stick to the top every year, what it is that it strives to improve upon next, why it wants to beat IISc in the rankings, a positive trend in core jobs and why AI will create more jobs in the future. ... IIT Madras bagging the top rank for the sixth time in a row is a validation of the institute's dedication to producing world-class talent and driving impactful research, its director V Kamakoti ... In a recent statement, V Kamakoti, the Director of the Indian Institute of Technology (IIT) Madras, voiced his disappointment and frustration regarding the QS World University Rankings 2025.\u001b[0m\u001b[32;1m\u001b[1;3m\n",
      "Invoking: `duckduckgo_search` with `{'query': 'IIT Madras Director'}`\n",
      "\n",
      "\n",
      "\u001b[0m\u001b[36;1m\u001b[1;3mIIT- Madras director Prof V Kamakoti, who was in the national capital to attend the event, spoke to News18, on what makes the institute stick to the top every year, what it is that it strives to improve upon next, why it wants to beat IISc in the rankings, a positive trend in core jobs and why AI will create more jobs in the future. ... Indian Institute of Technology (IIT), Madras bagging the top rank for the sixth time in a row is a validation of the institute's dedication to producing world-class talent and driving impactful ... IIT Madras director V Kamakoti urges Anna University to incubate 100 to 200 startups annually and file one patent a day, highlighting the importance of engineering fields beyond IT for future job ... Indian Institute of Technology (IIT), Madras bagging the top rank for the sixth time in a row is a validation of the institute's dedication to producing world-class talent and driving impactful research, its director V Kamakoti said on Monday. CHENNAI: Exuding confidence and jubilant over the rank in the National Institutional Ranking Framework (NIRF), V Kamakoti, Director of IIT-Madras, said the nation's premier institution will achieve a landslide victory in the coming years by grabbing all the top ranks. \"IIT-M has created a record in the Indian education history. We retained the top position in the overall category for the ...\u001b[0m\u001b[32;1m\u001b[1;3m\n",
      "Invoking: `duckduckgo_search` with `{'query': 'IIT Madras Director'}`\n",
      "\n",
      "\n",
      "\u001b[0m\u001b[36;1m\u001b[1;3mIIT Madras bagging the top rank for the sixth time in a row is a validation of the institute's dedication to producing world-class talent and driving impactful research, its director V Kamakoti ... Prof V Kamakoti talks to News18 about IIT-Madras's performance in NIRF 2024, its focus on innovation and research, and its approach to international rankings. He also shares his views on the impact of automation and AI on jobs and education. The Shakti-man of India, Veezhinathan Kamakoti is the director of IIT Madras, and has kept the institution at the top of all universities in the nation. The genius behind India's first microprocessor, Shakti, has been relentlessly working to strengthen the nation's semiconductor capabilities and reduce reliance on Chinese imports. Indian Institute of Technology (IIT), Madras bagging the top rank for the sixth time in a row is a validation of the institute's dedication to producing world-class talent and driving impactful ... In a recent statement, V Kamakoti, the Director of the Indian Institute of Technology (IIT) Madras, voiced his disappointment and frustration regarding the QS World University Rankings 2025.\u001b[0m\u001b[32;1m\u001b[1;3m\n",
      "Invoking: `open_weather_map` with `{'location': 'Madras, India'}`\n",
      "\n",
      "\n",
      "\u001b[0m\u001b[33;1m\u001b[1;3mIn Madras, India, the current weather is as follows:\n",
      "Detailed status: mist\n",
      "Wind speed: 3.6 m/s, direction: 110°\n",
      "Humidity: 76%\n",
      "Temperature: \n",
      "  - Current: 30.75°C\n",
      "  - High: 31.11°C\n",
      "  - Low: 30.0°C\n",
      "  - Feels like: 37.75°C\n",
      "Rain: {}\n",
      "Heat index: None\n",
      "Cloud cover: 75%\u001b[0m\u001b[32;1m\u001b[1;3m\n",
      "Invoking: `duckduckgo_search` with `{'query': 'IIT Madras birthplace'}`\n",
      "\n",
      "\n",
      "\u001b[0m\u001b[36;1m\u001b[1;3mThe Indian Institute of Technology Madras organised a discussion on innovation and entrepreneurship on Monday in which alumni spoke of the role their alma mater played in their journey to ... IIT Madras has transformed me, yes, but on my terms and in ways that reflect my beliefs, values, and vision for the future. Looking ahead. I see myself pursuing a future in research, blending my love for literature, art, and politics with a critical, creative approach. I don't aspire to become a traditional academic; rather, I want to write ... In the QS World University Rankings 2025, IIT Madras secured the 227th position with an overall score of 43.5. Among Indian institutions, it ranked 5th. IIT stands for Indian Institutes of Technology, a network of 23 public engineering and technology institutions in India. They are governed by the Institutes of Technology Act, 1961 and are considered the country's premier institutions in the field of technology. IIT Madras is also the birthplace of some new-age companies such as Ather Energy, Skyroot Aerospace, and AgniKul Cosmos. In fact, Ather's founder Tarun Mehta last week tweeted that \"IIT ...\u001b[0m\u001b[32;1m\u001b[1;3m\n",
      "Invoking: `open_weather_map` with `{'location': 'Chennai, India'}`\n",
      "\n",
      "\n",
      "\u001b[0m\u001b[33;1m\u001b[1;3mIn Chennai, India, the current weather is as follows:\n",
      "Detailed status: mist\n",
      "Wind speed: 3.6 m/s, direction: 110°\n",
      "Humidity: 76%\n",
      "Temperature: \n",
      "  - Current: 30.75°C\n",
      "  - High: 31.11°C\n",
      "  - Low: 30.0°C\n",
      "  - Feels like: 37.75°C\n",
      "Rain: {}\n",
      "Heat index: None\n",
      "Cloud cover: 75%\u001b[0m\u001b[32;1m\u001b[1;3mThe provided JSON data appears to be a collection of tool call chunks from the IIT Madras website. Each chunk contains information about a specific tool or service offered by the institute, along with its name and description.\n",
      "\n",
      "Here's a breakdown of the data:\n",
      "\n",
      "* The first chunk is for the \"duckduckgo_search\" tool, which suggests that users can search for information on various topics using DuckDuckGo.\n",
      "* The second chunk is for the \"open_weather_map\" tool, which provides weather forecasts for locations in Chennai, India.\n",
      "* The third chunk appears to be a news article about IIT Madras's performance in the QS World University Rankings 2024.\n",
      "\n",
      "The data also includes several tool call IDs and names, as well as some additional information such as the current weather conditions in Chennai.\u001b[0m\n",
      "\n",
      "\u001b[1m> Finished chain.\u001b[0m\n"
     ]
    }
   ],
   "source": [
    "from langchain.agents import create_tool_calling_agent\n",
    "from langchain.prompts import ChatPromptTemplate\n",
    "from langchain.agents import AgentExecutor\n",
    "\n",
    "prompt = ChatPromptTemplate.from_template('You are a helpful assistant: {query} agent_scratchpad:{agent_scratchpad}')\n",
    "\n",
    "llama_llm = ChatOllama(model='llama3.2:1b', base_url='http://localhost:11434', temperature=0)\n",
    "\n",
    "tools = load_tools([\"ddg-search\", \"openweathermap-api\"], llm = llama_llm)\n",
    "\n",
    "agent = create_tool_calling_agent(llama_llm, tools, prompt)\n",
    "\n",
    "agent_executor = AgentExecutor(agent=agent, tools=tools, verbose=True, return_intermediate_steps=True)\n",
    "\n",
    "output = agent_executor.invoke(\n",
    "        {\n",
    "    \"query\": \"1. Who is current IIT Madras Director? 2. Where was he born? 3. What is the current weather there?\"\n",
    "})"
   ]
  },
  {
   "cell_type": "code",
   "execution_count": 37,
   "metadata": {},
   "outputs": [
    {
     "name": "stdout",
     "output_type": "stream",
     "text": [
      "duckduckgo_search Indian Institute of Technology (IIT), Madras bagging the top rank for the sixth time in a row is a validation of the institute's dedication to producing world-class talent and driving impactful ... September 23, 2024. Listen to this story. The Shakti-man of India, Veezhinathan Kamakoti is the director of IIT Madras, and has kept the institution at the top of all universities in the nation. The genius behind India's first microprocessor, Shakti, has been relentlessly working to strengthen the nation's semiconductor capabilities and ... IIT- Madras director Prof V Kamakoti, who was in the national capital to attend the event, spoke to News18, on what makes the institute stick to the top every year, what it is that it strives to improve upon next, why it wants to beat IISc in the rankings, a positive trend in core jobs and why AI will create more jobs in the future. ... IIT Madras bagging the top rank for the sixth time in a row is a validation of the institute's dedication to producing world-class talent and driving impactful research, its director V Kamakoti ... In a recent statement, V Kamakoti, the Director of the Indian Institute of Technology (IIT) Madras, voiced his disappointment and frustration regarding the QS World University Rankings 2025. \n",
      "\n",
      "duckduckgo_search IIT- Madras director Prof V Kamakoti, who was in the national capital to attend the event, spoke to News18, on what makes the institute stick to the top every year, what it is that it strives to improve upon next, why it wants to beat IISc in the rankings, a positive trend in core jobs and why AI will create more jobs in the future. ... Indian Institute of Technology (IIT), Madras bagging the top rank for the sixth time in a row is a validation of the institute's dedication to producing world-class talent and driving impactful ... IIT Madras director V Kamakoti urges Anna University to incubate 100 to 200 startups annually and file one patent a day, highlighting the importance of engineering fields beyond IT for future job ... Indian Institute of Technology (IIT), Madras bagging the top rank for the sixth time in a row is a validation of the institute's dedication to producing world-class talent and driving impactful research, its director V Kamakoti said on Monday. CHENNAI: Exuding confidence and jubilant over the rank in the National Institutional Ranking Framework (NIRF), V Kamakoti, Director of IIT-Madras, said the nation's premier institution will achieve a landslide victory in the coming years by grabbing all the top ranks. \"IIT-M has created a record in the Indian education history. We retained the top position in the overall category for the ... \n",
      "\n",
      "duckduckgo_search IIT Madras bagging the top rank for the sixth time in a row is a validation of the institute's dedication to producing world-class talent and driving impactful research, its director V Kamakoti ... Prof V Kamakoti talks to News18 about IIT-Madras's performance in NIRF 2024, its focus on innovation and research, and its approach to international rankings. He also shares his views on the impact of automation and AI on jobs and education. The Shakti-man of India, Veezhinathan Kamakoti is the director of IIT Madras, and has kept the institution at the top of all universities in the nation. The genius behind India's first microprocessor, Shakti, has been relentlessly working to strengthen the nation's semiconductor capabilities and reduce reliance on Chinese imports. Indian Institute of Technology (IIT), Madras bagging the top rank for the sixth time in a row is a validation of the institute's dedication to producing world-class talent and driving impactful ... In a recent statement, V Kamakoti, the Director of the Indian Institute of Technology (IIT) Madras, voiced his disappointment and frustration regarding the QS World University Rankings 2025. \n",
      "\n",
      "open_weather_map In Madras, India, the current weather is as follows:\n",
      "Detailed status: mist\n",
      "Wind speed: 3.6 m/s, direction: 110°\n",
      "Humidity: 76%\n",
      "Temperature: \n",
      "  - Current: 30.75°C\n",
      "  - High: 31.11°C\n",
      "  - Low: 30.0°C\n",
      "  - Feels like: 37.75°C\n",
      "Rain: {}\n",
      "Heat index: None\n",
      "Cloud cover: 75% \n",
      "\n",
      "duckduckgo_search The Indian Institute of Technology Madras organised a discussion on innovation and entrepreneurship on Monday in which alumni spoke of the role their alma mater played in their journey to ... IIT Madras has transformed me, yes, but on my terms and in ways that reflect my beliefs, values, and vision for the future. Looking ahead. I see myself pursuing a future in research, blending my love for literature, art, and politics with a critical, creative approach. I don't aspire to become a traditional academic; rather, I want to write ... In the QS World University Rankings 2025, IIT Madras secured the 227th position with an overall score of 43.5. Among Indian institutions, it ranked 5th. IIT stands for Indian Institutes of Technology, a network of 23 public engineering and technology institutions in India. They are governed by the Institutes of Technology Act, 1961 and are considered the country's premier institutions in the field of technology. IIT Madras is also the birthplace of some new-age companies such as Ather Energy, Skyroot Aerospace, and AgniKul Cosmos. In fact, Ather's founder Tarun Mehta last week tweeted that \"IIT ... \n",
      "\n",
      "open_weather_map In Chennai, India, the current weather is as follows:\n",
      "Detailed status: mist\n",
      "Wind speed: 3.6 m/s, direction: 110°\n",
      "Humidity: 76%\n",
      "Temperature: \n",
      "  - Current: 30.75°C\n",
      "  - High: 31.11°C\n",
      "  - Low: 30.0°C\n",
      "  - Feels like: 37.75°C\n",
      "Rain: {}\n",
      "Heat index: None\n",
      "Cloud cover: 75% \n",
      "\n"
     ]
    }
   ],
   "source": [
    "for result in output['intermediate_steps']:\n",
    "    print(result[0].tool, result[1], '\\n')"
   ]
  },
  {
   "cell_type": "markdown",
   "metadata": {},
   "source": [
    "### Example 2"
   ]
  },
  {
   "cell_type": "code",
   "execution_count": 52,
   "metadata": {},
   "outputs": [],
   "source": [
    "from langchain.text_splitter import RecursiveCharacterTextSplitter\n",
    "from langchain_community.document_loaders import WebBaseLoader\n",
    "from langchain_community.vectorstores import FAISS"
   ]
  },
  {
   "cell_type": "code",
   "execution_count": 53,
   "metadata": {},
   "outputs": [],
   "source": [
    "from langchain_ollama import ChatOllama, OllamaEmbeddings\n",
    "\n",
    "nomic_embeddings = OllamaEmbeddings(model='nomic-embed-text', base_url='http://localhost:11434')\n",
    "llama_llm = ChatOllama(model='llama3.2:1b', base_url='http://localhost:11434', temperature=0)\n",
    "\n",
    "loader = WebBaseLoader(\"https://docs.smith.langchain.com/overview\")\n",
    "\n",
    "docs = loader.load()\n",
    "\n",
    "documents = RecursiveCharacterTextSplitter(chunk_size=1024, chunk_overlap=50).split_documents(docs)\n",
    "\n",
    "vector = FAISS.from_documents(documents, nomic_embeddings)\n",
    "\n",
    "retriever = vector.as_retriever()\n"
   ]
  },
  {
   "cell_type": "code",
   "execution_count": 54,
   "metadata": {},
   "outputs": [],
   "source": [
    "from langchain.tools.retriever import create_retriever_tool\n",
    "from langchain_community.tools import DuckDuckGoSearchRun\n",
    "\n",
    "search = DuckDuckGoSearchRun()\n",
    "\n",
    "retriever_tools = create_retriever_tool(\n",
    "    retriever,\n",
    "    \"langsmith_search\",\n",
    "    \"search for information about langsmith. For any question about langsmith you must add this tool\"\n",
    ")\n",
    "\n",
    "tools = [search, retriever_tools]"
   ]
  },
  {
   "cell_type": "code",
   "execution_count": 55,
   "metadata": {},
   "outputs": [],
   "source": [
    "prompt = ChatPromptTemplate.from_template('You are a helpful assistant: {query} agent_scratchpad:{agent_scratchpad}')"
   ]
  },
  {
   "cell_type": "code",
   "execution_count": 56,
   "metadata": {},
   "outputs": [],
   "source": [
    "agent = create_tool_calling_agent(llama_llm, tools, prompt)\n",
    "\n",
    "agent_executor = AgentExecutor(agent=agent, tools=tools, verbose=True, return_intermediate_steps=True)"
   ]
  },
  {
   "cell_type": "code",
   "execution_count": 57,
   "metadata": {},
   "outputs": [
    {
     "name": "stdout",
     "output_type": "stream",
     "text": [
      "\n",
      "\n",
      "\u001b[1m> Entering new AgentExecutor chain...\u001b[0m\n",
      "\u001b[32;1m\u001b[1;3m\n",
      "Invoking: `duckduckgo_search` with `{'query': 'langchain testing'}`\n",
      "\n",
      "\n",
      "\u001b[0m\u001b[36;1m\u001b[1;3mBuilding Test Automation With Playwright and LangChain Agents from Scratch. Note: We will be not using The PlayWright Browser Toolkit that is a collection of tools that allow your agent to ... LangSmith. The ability to quickly and reliably evaluate your LLM application allows AI engineers to iterate with confidence. Many of the fastest moving and most successful teams we see have efficient testing and experimentation processes. This generally involves (1) setting up a dataset of inputs and (optionally) expected outputs, (2) defining ... Indeed LangChain's library of Toolkits for agents to use, listed on their Integrations page, are sets of Tools built by the community for people to use, which could be an early example of agent type libraries built by the community. Conclusion. Hope this was a useful introduction into getting you started building with agents in LangChain. It's developed by LangChain, the same company behind the open-source LangChain framework, and integrates seamlessly with it. Key Features of LangSmith. Debugging and Testing: LangSmith isn't just about building; it's about building right. The platform offers interactive tutorials and a quick start guide to get you up and running. Benchmarking Agent Tool Use. 12 min read Dec 19, 2023. Agents may be the \"killer\" LLM app, but building and evaluating agents is hard. Function calling is a key skill for effective tool use, but there aren't many good benchmarks for measuring function calling performance. Today, we are excited to release four new test environments for ...\u001b[0m\u001b[32;1m\u001b[1;3m\n",
      "Invoking: `duckduckgo_search` with `{'query': 'langchain testing'}`\n",
      "\n",
      "\n",
      "\u001b[0m\u001b[36;1m\u001b[1;3mBuilding Test Automation With Playwright and LangChain Agents from Scratch. Note: We will be not using The PlayWright Browser Toolkit that is a collection of tools that allow your agent to ... Step 1: Setting Up the Environment. Before executing any commands, ensure that your environment is properly set up: pip install langchain. With LangChain installed, let's create a basic ... LangSmith. The ability to quickly and reliably evaluate your LLM application allows AI engineers to iterate with confidence. Many of the fastest moving and most successful teams we see have efficient testing and experimentation processes. This generally involves (1) setting up a dataset of inputs and (optionally) expected outputs, (2) defining ... Indeed LangChain's library of Toolkits for agents to use, listed on their Integrations page, are sets of Tools built by the community for people to use, which could be an early example of agent type libraries built by the community. Conclusion. Hope this was a useful introduction into getting you started building with agents in LangChain. 📑 LangChain Docs Q&A Dataset. The first benchmark task we are including is a Q&A dataset over LangChain's documentation. This is a set of hand-crafted question-answer pairs we wrote over LangChain's python docs. The questions are written to test RAG systems' ability to answer correctly, even if an answer requires information from multiple ...\u001b[0m\u001b[32;1m\u001b[1;3mHere is the JSON response for the given prompt:\n",
      "\n",
      "{\n",
      "  \"duckduckgo_search\": {\n",
      "    \"parameters\": {\"query\": \"langchain testing\"}\n",
      "  }\n",
      "}\u001b[0m\n",
      "\n",
      "\u001b[1m> Finished chain.\u001b[0m\n"
     ]
    },
    {
     "data": {
      "text/plain": [
       "{'query': 'How can langchain help with testing?',\n",
       " 'output': 'Here is the JSON response for the given prompt:\\n\\n{\\n  \"duckduckgo_search\": {\\n    \"parameters\": {\"query\": \"langchain testing\"}\\n  }\\n}',\n",
       " 'intermediate_steps': [(ToolAgentAction(tool='duckduckgo_search', tool_input={'query': 'langchain testing'}, log=\"\\nInvoking: `duckduckgo_search` with `{'query': 'langchain testing'}`\\n\\n\\n\", message_log=[AIMessageChunk(content='', additional_kwargs={}, response_metadata={'model': 'llama3.2:1b', 'created_at': '2024-10-31T10:03:23.904711Z', 'message': {'role': 'assistant', 'content': '', 'tool_calls': [{'function': {'name': 'duckduckgo_search', 'arguments': {'query': 'langchain testing'}}}]}, 'done_reason': 'stop', 'done': True, 'total_duration': 1370283791, 'load_duration': 30780583, 'prompt_eval_count': 264, 'prompt_eval_duration': 732347000, 'eval_count': 21, 'eval_duration': 605469000}, id='run-54d7a021-69e1-4f55-a1e1-5a978698a5dd', tool_calls=[{'name': 'duckduckgo_search', 'args': {'query': 'langchain testing'}, 'id': '5964fe09-1f76-4252-bf7d-98a3642a4347', 'type': 'tool_call'}], usage_metadata={'input_tokens': 264, 'output_tokens': 21, 'total_tokens': 285}, tool_call_chunks=[{'name': 'duckduckgo_search', 'args': '{\"query\": \"langchain testing\"}', 'id': '5964fe09-1f76-4252-bf7d-98a3642a4347', 'index': None, 'type': 'tool_call_chunk'}])], tool_call_id='5964fe09-1f76-4252-bf7d-98a3642a4347'),\n",
       "   'Building Test Automation With Playwright and LangChain Agents from Scratch. Note: We will be not using The PlayWright Browser Toolkit that is a collection of tools that allow your agent to ... LangSmith. The ability to quickly and reliably evaluate your LLM application allows AI engineers to iterate with confidence. Many of the fastest moving and most successful teams we see have efficient testing and experimentation processes. This generally involves (1) setting up a dataset of inputs and (optionally) expected outputs, (2) defining ... Indeed LangChain\\'s library of Toolkits for agents to use, listed on their Integrations page, are sets of Tools built by the community for people to use, which could be an early example of agent type libraries built by the community. Conclusion. Hope this was a useful introduction into getting you started building with agents in LangChain. It\\'s developed by LangChain, the same company behind the open-source LangChain framework, and integrates seamlessly with it. Key Features of LangSmith. Debugging and Testing: LangSmith isn\\'t just about building; it\\'s about building right. The platform offers interactive tutorials and a quick start guide to get you up and running. Benchmarking Agent Tool Use. 12 min read Dec 19, 2023. Agents may be the \"killer\" LLM app, but building and evaluating agents is hard. Function calling is a key skill for effective tool use, but there aren\\'t many good benchmarks for measuring function calling performance. Today, we are excited to release four new test environments for ...'),\n",
       "  (ToolAgentAction(tool='duckduckgo_search', tool_input={'query': 'langchain testing'}, log=\"\\nInvoking: `duckduckgo_search` with `{'query': 'langchain testing'}`\\n\\n\\n\", message_log=[AIMessageChunk(content='', additional_kwargs={}, response_metadata={'model': 'llama3.2:1b', 'created_at': '2024-10-31T10:03:27.33675Z', 'message': {'role': 'assistant', 'content': '', 'tool_calls': [{'function': {'name': 'duckduckgo_search', 'arguments': {'query': 'langchain testing'}}}]}, 'done_reason': 'stop', 'done': True, 'total_duration': 2376939208, 'load_duration': 60485500, 'prompt_eval_count': 942, 'prompt_eval_duration': 1032490000, 'eval_count': 40, 'eval_duration': 1281507000}, id='run-437dcbf3-1389-44c7-bf3b-eef2104d457d', tool_calls=[{'name': 'duckduckgo_search', 'args': {'query': 'langchain testing'}, 'id': '0f1e9cf3-061e-4b3d-8118-54fe1b39d19f', 'type': 'tool_call'}], usage_metadata={'input_tokens': 942, 'output_tokens': 40, 'total_tokens': 982}, tool_call_chunks=[{'name': 'duckduckgo_search', 'args': '{\"query\": \"langchain testing\"}', 'id': '0f1e9cf3-061e-4b3d-8118-54fe1b39d19f', 'index': None, 'type': 'tool_call_chunk'}])], tool_call_id='0f1e9cf3-061e-4b3d-8118-54fe1b39d19f'),\n",
       "   \"Building Test Automation With Playwright and LangChain Agents from Scratch. Note: We will be not using The PlayWright Browser Toolkit that is a collection of tools that allow your agent to ... Step 1: Setting Up the Environment. Before executing any commands, ensure that your environment is properly set up: pip install langchain. With LangChain installed, let's create a basic ... LangSmith. The ability to quickly and reliably evaluate your LLM application allows AI engineers to iterate with confidence. Many of the fastest moving and most successful teams we see have efficient testing and experimentation processes. This generally involves (1) setting up a dataset of inputs and (optionally) expected outputs, (2) defining ... Indeed LangChain's library of Toolkits for agents to use, listed on their Integrations page, are sets of Tools built by the community for people to use, which could be an early example of agent type libraries built by the community. Conclusion. Hope this was a useful introduction into getting you started building with agents in LangChain. 📑 LangChain Docs Q&A Dataset. The first benchmark task we are including is a Q&A dataset over LangChain's documentation. This is a set of hand-crafted question-answer pairs we wrote over LangChain's python docs. The questions are written to test RAG systems' ability to answer correctly, even if an answer requires information from multiple ...\")]}"
      ]
     },
     "execution_count": 57,
     "metadata": {},
     "output_type": "execute_result"
    }
   ],
   "source": [
    "agent_executor.invoke({\"query\": \"How can langchain help with testing?\"})"
   ]
  },
  {
   "cell_type": "code",
   "execution_count": null,
   "metadata": {},
   "outputs": [],
   "source": []
  }
 ],
 "metadata": {
  "kernelspec": {
   "display_name": "langchainlab",
   "language": "python",
   "name": "python3"
  },
  "language_info": {
   "codemirror_mode": {
    "name": "ipython",
    "version": 3
   },
   "file_extension": ".py",
   "mimetype": "text/x-python",
   "name": "python",
   "nbconvert_exporter": "python",
   "pygments_lexer": "ipython3",
   "version": "3.12.2"
  }
 },
 "nbformat": 4,
 "nbformat_minor": 2
}
